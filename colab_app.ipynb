{
 "cells": [
  {
   "cell_type": "markdown",
   "id": "d6698f32",
   "metadata": {},
   "source": [
    "# Inicialização do app"
   ]
  },
  {
   "cell_type": "code",
   "execution_count": null,
   "id": "10cdec52",
   "metadata": {},
   "outputs": [],
   "source": [
    "!pip install -q -r requirements.txt pyngrok"
   ]
  },
  {
   "cell_type": "code",
   "execution_count": null,
   "id": "b56457d3",
   "metadata": {},
   "outputs": [],
   "source": [
    "from pyngrok import ngrok\n",
    "import threading, uvicorn\n",
    "\n",
    "def run():\n",
    "    uvicorn.run(\"app.main:app\", host=\"0.0.0.0\", port=8000)\n",
    "\n",
    "threading.Thread(target=run, daemon=True).start()\n",
    "public_url = ngrok.connect(8000).public_url\n",
    "print(\"Acesse o app em:\", public_url)"
   ]
  }
 ],
 "metadata": {},
 "nbformat": 4,
 "nbformat_minor": 5
}
